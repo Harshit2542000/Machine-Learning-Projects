{
 "cells": [
  {
   "cell_type": "markdown",
   "metadata": {
    "colab_type": "text",
    "id": "3DR-eO17geWu"
   },
   "source": [
    "# Convolutional Neural Network"
   ]
  },
  {
   "cell_type": "markdown",
   "metadata": {
    "colab_type": "text",
    "id": "EMefrVPCg-60"
   },
   "source": [
    "### Importing the libraries"
   ]
  },
  {
   "cell_type": "code",
   "execution_count": 31,
   "metadata": {
    "colab": {},
    "colab_type": "code",
    "id": "YK0piT3P7Rnm"
   },
   "outputs": [],
   "source": [
    "import tensorflow as tf\n",
    "from keras.preprocessing.image import ImageDataGenerator"
   ]
  },
  {
   "cell_type": "code",
   "execution_count": 32,
   "metadata": {
    "colab": {
     "base_uri": "https://localhost:8080/",
     "height": 35
    },
    "colab_type": "code",
    "id": "ZorEC9ou7qDv",
    "outputId": "92defb49-acee-4266-b45d-681648ab4388"
   },
   "outputs": [
    {
     "data": {
      "text/plain": [
       "'2.3.0'"
      ]
     },
     "execution_count": 32,
     "metadata": {},
     "output_type": "execute_result"
    }
   ],
   "source": [
    "tf.__version__"
   ]
  },
  {
   "cell_type": "markdown",
   "metadata": {
    "colab_type": "text",
    "id": "oxQxCBWyoGPE"
   },
   "source": [
    "## Part 1 - Data Preprocessing"
   ]
  },
  {
   "cell_type": "markdown",
   "metadata": {
    "colab_type": "text",
    "id": "MvE-heJNo3GG"
   },
   "source": [
    "### Preprocessing the Training set"
   ]
  },
  {
   "cell_type": "code",
   "execution_count": 33,
   "metadata": {
    "colab": {},
    "colab_type": "code",
    "id": "DfgTWhOj7tFp"
   },
   "outputs": [
    {
     "name": "stdout",
     "output_type": "stream",
     "text": [
      "Found 8000 images belonging to 2 classes.\n"
     ]
    }
   ],
   "source": [
    "training_datagen=ImageDataGenerator(\n",
    "    rescale=1./255,\n",
    "    shear_range=0.2,\n",
    "    zoom_range=0.2,\n",
    "    horizontal_flip=True\n",
    ")\n",
    "training_set=training_datagen.flow_from_directory(\n",
    "    'dataset/training_set',\n",
    "    target_size=(64,64),\n",
    "    batch_size=32,\n",
    "    class_mode='binary'\n",
    ")"
   ]
  },
  {
   "cell_type": "markdown",
   "metadata": {
    "colab_type": "text",
    "id": "mrCMmGw9pHys"
   },
   "source": [
    "### Preprocessing the Test set"
   ]
  },
  {
   "cell_type": "code",
   "execution_count": 34,
   "metadata": {
    "colab": {},
    "colab_type": "code",
    "id": "o-MmnskA9VYf"
   },
   "outputs": [
    {
     "name": "stdout",
     "output_type": "stream",
     "text": [
      "Found 2000 images belonging to 2 classes.\n"
     ]
    }
   ],
   "source": [
    "test_datagen=ImageDataGenerator(rescale=1./255)\n",
    "test_set=test_datagen.flow_from_directory(\n",
    "    'dataset/test_set',\n",
    "    target_size=(64,64),\n",
    "    batch_size=32,\n",
    "    class_mode='binary'\n",
    ")"
   ]
  },
  {
   "cell_type": "markdown",
   "metadata": {
    "colab_type": "text",
    "id": "af8O4l90gk7B"
   },
   "source": [
    "## Part 2 - Building the CNN"
   ]
  },
  {
   "cell_type": "markdown",
   "metadata": {
    "colab_type": "text",
    "id": "ces1gXY2lmoX"
   },
   "source": [
    "### Initialising the CNN"
   ]
  },
  {
   "cell_type": "code",
   "execution_count": 35,
   "metadata": {
    "colab": {},
    "colab_type": "code",
    "id": "TIMplFhzZBuD"
   },
   "outputs": [],
   "source": [
    "cnn=tf.keras.models.Sequential()"
   ]
  },
  {
   "cell_type": "markdown",
   "metadata": {
    "colab_type": "text",
    "id": "u5YJj_XMl5LF"
   },
   "source": [
    "### Step 1 - Convolution"
   ]
  },
  {
   "cell_type": "code",
   "execution_count": 36,
   "metadata": {
    "colab": {},
    "colab_type": "code",
    "id": "ST_DVmTtZRpt"
   },
   "outputs": [],
   "source": [
    "cnn.add(tf.keras.layers.Conv2D(filters=32,kernel_size=3,activation='relu',input_shape=[64,64,3]))"
   ]
  },
  {
   "cell_type": "markdown",
   "metadata": {
    "colab_type": "text",
    "id": "tf87FpvxmNOJ"
   },
   "source": [
    "### Step 2 - Pooling"
   ]
  },
  {
   "cell_type": "code",
   "execution_count": 37,
   "metadata": {
    "colab": {},
    "colab_type": "code",
    "id": "lMReP-zbaLjy"
   },
   "outputs": [],
   "source": [
    "cnn.add(tf.keras.layers.MaxPool2D(pool_size=2,strides=2))"
   ]
  },
  {
   "cell_type": "markdown",
   "metadata": {
    "colab_type": "text",
    "id": "xaTOgD8rm4mU"
   },
   "source": [
    "### Adding a second convolutional layer"
   ]
  },
  {
   "cell_type": "code",
   "execution_count": 38,
   "metadata": {
    "colab": {},
    "colab_type": "code",
    "id": "I1WBT8f6aeE4"
   },
   "outputs": [],
   "source": [
    "cnn.add(tf.keras.layers.Conv2D(filters=32,kernel_size=3,activation='relu'))\n",
    "cnn.add(tf.keras.layers.MaxPool2D(pool_size=2,strides=2))"
   ]
  },
  {
   "cell_type": "markdown",
   "metadata": {
    "colab_type": "text",
    "id": "tmiEuvTunKfk"
   },
   "source": [
    "### Step 3 - Flattening"
   ]
  },
  {
   "cell_type": "code",
   "execution_count": 39,
   "metadata": {
    "colab": {},
    "colab_type": "code",
    "id": "J8DimO_Xa4n2"
   },
   "outputs": [],
   "source": [
    "cnn.add(tf.keras.layers.Flatten())"
   ]
  },
  {
   "cell_type": "markdown",
   "metadata": {
    "colab_type": "text",
    "id": "dAoSECOm203v"
   },
   "source": [
    "### Step 4 - Full Connection"
   ]
  },
  {
   "cell_type": "code",
   "execution_count": 40,
   "metadata": {
    "colab": {},
    "colab_type": "code",
    "id": "vYk3s6uMbBoN"
   },
   "outputs": [],
   "source": [
    "cnn.add(tf.keras.layers.Dense(units=128,activation='relu'))"
   ]
  },
  {
   "cell_type": "markdown",
   "metadata": {
    "colab_type": "text",
    "id": "yTldFvbX28Na"
   },
   "source": [
    "### Step 5 - Output Layer"
   ]
  },
  {
   "cell_type": "code",
   "execution_count": 41,
   "metadata": {
    "colab": {},
    "colab_type": "code",
    "id": "iBGc3DA0bXUx"
   },
   "outputs": [],
   "source": [
    "cnn.add(tf.keras.layers.Dense(units=1,activation='sigmoid'))"
   ]
  },
  {
   "cell_type": "markdown",
   "metadata": {
    "colab_type": "text",
    "id": "D6XkI90snSDl"
   },
   "source": [
    "## Part 3 - Training the CNN"
   ]
  },
  {
   "cell_type": "markdown",
   "metadata": {
    "colab_type": "text",
    "id": "vfrFQACEnc6i"
   },
   "source": [
    "### Compiling the CNN"
   ]
  },
  {
   "cell_type": "code",
   "execution_count": 42,
   "metadata": {
    "colab": {},
    "colab_type": "code",
    "id": "LUuX2LUHpKpC"
   },
   "outputs": [],
   "source": [
    "cnn.compile(optimizer='adam',loss='binary_crossentropy',metrics=['accuracy'])"
   ]
  },
  {
   "cell_type": "markdown",
   "metadata": {
    "colab_type": "text",
    "id": "ehS-v3MIpX2h"
   },
   "source": [
    "### Training the CNN on the Training set and evaluating it on the Test set"
   ]
  },
  {
   "cell_type": "code",
   "execution_count": 43,
   "metadata": {
    "colab": {},
    "colab_type": "code",
    "id": "62ZGRmsbpXbO"
   },
   "outputs": [
    {
     "name": "stdout",
     "output_type": "stream",
     "text": [
      "Epoch 1/25\n",
      "250/250 [==============================] - 37s 149ms/step - loss: 0.6849 - accuracy: 0.5586 - val_loss: 0.6570 - val_accuracy: 0.6005\n",
      "Epoch 2/25\n",
      "250/250 [==============================] - 36s 145ms/step - loss: 0.6393 - accuracy: 0.6366 - val_loss: 0.6097 - val_accuracy: 0.6785\n",
      "Epoch 3/25\n",
      "250/250 [==============================] - 36s 146ms/step - loss: 0.5845 - accuracy: 0.6921 - val_loss: 0.5581 - val_accuracy: 0.7145\n",
      "Epoch 4/25\n",
      "250/250 [==============================] - 37s 149ms/step - loss: 0.5478 - accuracy: 0.7231 - val_loss: 0.5459 - val_accuracy: 0.7400\n",
      "Epoch 5/25\n",
      "250/250 [==============================] - 37s 147ms/step - loss: 0.5193 - accuracy: 0.7409 - val_loss: 0.5070 - val_accuracy: 0.7455\n",
      "Epoch 6/25\n",
      "250/250 [==============================] - 37s 147ms/step - loss: 0.4961 - accuracy: 0.7542 - val_loss: 0.5016 - val_accuracy: 0.7645\n",
      "Epoch 7/25\n",
      "250/250 [==============================] - 37s 149ms/step - loss: 0.4855 - accuracy: 0.7634 - val_loss: 0.5018 - val_accuracy: 0.7610\n",
      "Epoch 8/25\n",
      "250/250 [==============================] - 37s 147ms/step - loss: 0.4584 - accuracy: 0.7796 - val_loss: 0.4638 - val_accuracy: 0.7780\n",
      "Epoch 9/25\n",
      "250/250 [==============================] - 37s 148ms/step - loss: 0.4450 - accuracy: 0.7910 - val_loss: 0.4747 - val_accuracy: 0.7735\n",
      "Epoch 10/25\n",
      "250/250 [==============================] - 37s 146ms/step - loss: 0.4315 - accuracy: 0.7993 - val_loss: 0.4784 - val_accuracy: 0.7705\n",
      "Epoch 11/25\n",
      "250/250 [==============================] - 36s 146ms/step - loss: 0.4224 - accuracy: 0.8035 - val_loss: 0.4551 - val_accuracy: 0.7875\n",
      "Epoch 12/25\n",
      "250/250 [==============================] - 37s 148ms/step - loss: 0.4088 - accuracy: 0.8098 - val_loss: 0.4770 - val_accuracy: 0.7815\n",
      "Epoch 13/25\n",
      "250/250 [==============================] - 37s 148ms/step - loss: 0.3985 - accuracy: 0.8159 - val_loss: 0.4759 - val_accuracy: 0.7790\n",
      "Epoch 14/25\n",
      "250/250 [==============================] - 37s 146ms/step - loss: 0.3845 - accuracy: 0.8276 - val_loss: 0.5161 - val_accuracy: 0.7565\n",
      "Epoch 15/25\n",
      "250/250 [==============================] - 37s 147ms/step - loss: 0.3708 - accuracy: 0.8339 - val_loss: 0.4511 - val_accuracy: 0.7985\n",
      "Epoch 16/25\n",
      "250/250 [==============================] - 37s 147ms/step - loss: 0.3597 - accuracy: 0.8381 - val_loss: 0.4655 - val_accuracy: 0.7980\n",
      "Epoch 17/25\n",
      "250/250 [==============================] - 36s 146ms/step - loss: 0.3537 - accuracy: 0.8396 - val_loss: 0.5691 - val_accuracy: 0.7525\n",
      "Epoch 18/25\n",
      "250/250 [==============================] - 36s 145ms/step - loss: 0.3387 - accuracy: 0.8479 - val_loss: 0.4600 - val_accuracy: 0.8070\n",
      "Epoch 19/25\n",
      "250/250 [==============================] - 37s 149ms/step - loss: 0.3202 - accuracy: 0.8587 - val_loss: 0.5073 - val_accuracy: 0.7815\n",
      "Epoch 20/25\n",
      "250/250 [==============================] - 37s 150ms/step - loss: 0.3164 - accuracy: 0.8629 - val_loss: 0.4830 - val_accuracy: 0.7935\n",
      "Epoch 21/25\n",
      "250/250 [==============================] - 38s 152ms/step - loss: 0.2951 - accuracy: 0.8752 - val_loss: 0.4862 - val_accuracy: 0.7970\n",
      "Epoch 22/25\n",
      "250/250 [==============================] - 37s 147ms/step - loss: 0.2811 - accuracy: 0.8808 - val_loss: 0.4986 - val_accuracy: 0.7930\n",
      "Epoch 23/25\n",
      "250/250 [==============================] - 37s 149ms/step - loss: 0.2686 - accuracy: 0.8890 - val_loss: 0.5124 - val_accuracy: 0.8015\n",
      "Epoch 24/25\n",
      "250/250 [==============================] - 37s 149ms/step - loss: 0.2630 - accuracy: 0.8934 - val_loss: 0.5387 - val_accuracy: 0.7855\n",
      "Epoch 25/25\n",
      "250/250 [==============================] - 37s 148ms/step - loss: 0.2513 - accuracy: 0.8928 - val_loss: 0.5218 - val_accuracy: 0.7900\n"
     ]
    },
    {
     "data": {
      "text/plain": [
       "<tensorflow.python.keras.callbacks.History at 0x26e2a27aa08>"
      ]
     },
     "execution_count": 43,
     "metadata": {},
     "output_type": "execute_result"
    }
   ],
   "source": [
    "cnn.fit(x=training_set,validation_data=test_set,epochs=25)"
   ]
  },
  {
   "cell_type": "markdown",
   "metadata": {
    "colab_type": "text",
    "id": "U3PZasO0006Z"
   },
   "source": [
    "## Part 4 - Making a single prediction"
   ]
  },
  {
   "cell_type": "code",
   "execution_count": 56,
   "metadata": {
    "colab": {},
    "colab_type": "code",
    "id": "0EF9svnz605G"
   },
   "outputs": [],
   "source": [
    "import numpy as np\n",
    "from keras.preprocessing import image\n",
    "test_image=image.load_img('dataset/single_prediction/cat_or_dog_2.jpg',target_size=(64,64))\n",
    "test_image=image.img_to_array(test_image)\n",
    "test_image=np.expand_dims(test_image,axis=0)\n",
    "result=cnn.predict(test_image)\n",
    "training_set.class_indices\n",
    "if (result[0][0]==1):\n",
    "  prediction='dog'\n",
    "else:\n",
    "  prediction='cat'"
   ]
  },
  {
   "cell_type": "code",
   "execution_count": 53,
   "metadata": {
    "colab": {},
    "colab_type": "code",
    "id": "dYjYGe0V7fPx"
   },
   "outputs": [
    {
     "name": "stdout",
     "output_type": "stream",
     "text": [
      "dog\n"
     ]
    }
   ],
   "source": [
    "print(prediction)"
   ]
  },
  {
   "cell_type": "code",
   "execution_count": null,
   "metadata": {},
   "outputs": [],
   "source": []
  }
 ],
 "metadata": {
  "colab": {
   "collapsed_sections": [],
   "name": "Copy of convolutional_neural_network.ipynb",
   "provenance": []
  },
  "kernelspec": {
   "display_name": "Python 3",
   "language": "python",
   "name": "python3"
  },
  "language_info": {
   "codemirror_mode": {
    "name": "ipython",
    "version": 3
   },
   "file_extension": ".py",
   "mimetype": "text/x-python",
   "name": "python",
   "nbconvert_exporter": "python",
   "pygments_lexer": "ipython3",
   "version": "3.7.6"
  }
 },
 "nbformat": 4,
 "nbformat_minor": 1
}
